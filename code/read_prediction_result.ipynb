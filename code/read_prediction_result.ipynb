{
 "cells": [
  {
   "cell_type": "code",
   "id": "initial_id",
   "metadata": {
    "collapsed": true,
    "ExecuteTime": {
     "end_time": "2024-07-10T01:33:55.553349Z",
     "start_time": "2024-07-10T01:33:53.371576Z"
    }
   },
   "source": [
    "import pickle\n",
    "from train.util import get_dataset\n",
    "from datasets.util import get_proteins_by_fdr\n",
    "from train.util import iprg_converter"
   ],
   "outputs": [],
   "execution_count": 1
  },
  {
   "metadata": {
    "ExecuteTime": {
     "end_time": "2024-07-10T01:33:55.557559Z",
     "start_time": "2024-07-10T01:33:55.554703Z"
    }
   },
   "cell_type": "code",
   "source": [
    "prediction_file = '/tmp/protein-inference-feb-tmp/new_data_m_pep/PXD004789/mymodel_result/result.pkl'\n",
    "dataset = \"PXD004789\"\n",
    "test_fdr = 0.05"
   ],
   "id": "b88f9bfae4ee4527",
   "outputs": [],
   "execution_count": 2
  },
  {
   "metadata": {
    "ExecuteTime": {
     "end_time": "2024-07-10T01:33:55.574023Z",
     "start_time": "2024-07-10T01:33:55.559125Z"
    }
   },
   "cell_type": "code",
   "source": [
    "with open(prediction_file, \"rb\") as f:\n",
    "    protein_scores = pickle.load(f)"
   ],
   "id": "5433f61b12b9b87b",
   "outputs": [],
   "execution_count": 3
  },
  {
   "metadata": {
    "ExecuteTime": {
     "end_time": "2024-07-10T01:34:38.103404Z",
     "start_time": "2024-07-10T01:33:55.575148Z"
    }
   },
   "cell_type": "code",
   "source": "dataset = get_dataset(dataset, train=False)",
   "id": "9593a6dc015fc861",
   "outputs": [
    {
     "name": "stdout",
     "output_type": "stream",
     "text": [
      "The degenerate groups for PXD004789 is: 785\n",
      "['IonFrac', 'deltCn', 'deltLCn', 'lnExpect', 'lnNumSP', 'lnRankSP', 'spScores', 'xCorr', 'pep']\n"
     ]
    }
   ],
   "execution_count": 4
  },
  {
   "metadata": {
    "ExecuteTime": {
     "end_time": "2024-07-10T01:34:38.171291Z",
     "start_time": "2024-07-10T01:34:38.105389Z"
    }
   },
   "cell_type": "code",
   "source": [
    "reverse_id_map = {value: key for key, value in dataset.protein_map.items()}\n",
    "\n",
    "result = {iprg_converter(protein, dataset): score for protein, score in protein_scores.items()}\n",
    "contaminate_proteins = [iprg_converter(protein, dataset) for protein in dataset.get_contaminate_proteins()]\n",
    "indishtinguishable_group = {\n",
    "    iprg_converter(reverse_id_map[protein], dataset): [iprg_converter(reverse_id_map[protein_], dataset) \\\n",
    "                                                       for protein_ in protein_pairs] for protein, protein_pairs\n",
    "    in dataset.indistinguishable_groups.items()}\n",
    "\n",
    "true_proteins = get_proteins_by_fdr(result, fdr=test_fdr, contaminate_proteins=contaminate_proteins,\n",
    "                                    indishtinguishable_group=indishtinguishable_group)"
   ],
   "id": "52f1aee56414c2ce",
   "outputs": [],
   "execution_count": 5
  },
  {
   "metadata": {
    "ExecuteTime": {
     "end_time": "2024-07-10T01:34:38.180134Z",
     "start_time": "2024-07-10T01:34:38.172279Z"
    }
   },
   "cell_type": "code",
   "source": "len(true_proteins)",
   "id": "858c36b916a17c0c",
   "outputs": [
    {
     "data": {
      "text/plain": [
       "4770"
      ]
     },
     "execution_count": 6,
     "metadata": {},
     "output_type": "execute_result"
    }
   ],
   "execution_count": 6
  },
  {
   "metadata": {},
   "cell_type": "code",
   "outputs": [],
   "execution_count": null,
   "source": "",
   "id": "50fcf2fb4510f3bf"
  }
 ],
 "metadata": {
  "kernelspec": {
   "display_name": "O Python 3",
   "language": "python",
   "name": "o_python3"
  },
  "language_info": {
   "codemirror_mode": {
    "name": "ipython",
    "version": 2
   },
   "file_extension": ".py",
   "mimetype": "text/x-python",
   "name": "python",
   "nbconvert_exporter": "python",
   "pygments_lexer": "ipython2",
   "version": "2.7.6"
  }
 },
 "nbformat": 4,
 "nbformat_minor": 5
}
