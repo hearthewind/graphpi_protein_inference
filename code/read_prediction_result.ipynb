{
 "cells": [
  {
   "cell_type": "code",
   "execution_count": 1,
   "id": "initial_id",
   "metadata": {
    "jupyter": {
     "is_executing": true
    }
   },
   "outputs": [],
   "source": [
    "import pickle\n",
    "from train.util import get_dataset\n",
    "from datasets.util import get_proteins_by_fdr\n",
    "from train.util import iprg_converter"
   ]
  },
  {
   "cell_type": "code",
   "execution_count": 2,
   "id": "b88f9bfae4ee4527",
   "metadata": {},
   "outputs": [],
   "source": [
    "# Specifications about dataset\n",
    "prediction_file = '../results/predictions/TestDataset004789/graphpi_result/result.pkl'\n",
    "dataset = \"TestDataset004789\"\n",
    "test_fdr = 0.05"
   ]
  },
  {
   "cell_type": "code",
   "execution_count": 3,
   "id": "5433f61b12b9b87b",
   "metadata": {},
   "outputs": [],
   "source": [
    "# Read prediction result\n",
    "with open(prediction_file, \"rb\") as f:\n",
    "    protein_scores = pickle.load(f)"
   ]
  },
  {
   "cell_type": "code",
   "execution_count": 4,
   "id": "9593a6dc015fc861",
   "metadata": {},
   "outputs": [],
   "source": [
    "dataset = get_dataset(dataset, train=False)"
   ]
  },
  {
   "cell_type": "code",
   "execution_count": 5,
   "id": "52f1aee56414c2ce",
   "metadata": {},
   "outputs": [],
   "source": [
    "# Acquire decoy FDR\n",
    "reverse_id_map = {value: key for key, value in dataset.protein_map.items()}\n",
    "\n",
    "result = {iprg_converter(protein, dataset): score for protein, score in protein_scores.items()}\n",
    "contaminate_proteins = [iprg_converter(protein, dataset) for protein in dataset.get_contaminate_proteins()]\n",
    "indishtinguishable_group = {\n",
    "    iprg_converter(reverse_id_map[protein], dataset): [iprg_converter(reverse_id_map[protein_], dataset) \\\n",
    "                                                       for protein_ in protein_pairs] for protein, protein_pairs\n",
    "    in dataset.indistinguishable_groups.items()}\n",
    "\n",
    "true_proteins = get_proteins_by_fdr(result, fdr=test_fdr, max_len=10000, contaminate_proteins=contaminate_proteins,\n",
    "                                    indishtinguishable_group=indishtinguishable_group)"
   ]
  },
  {
   "cell_type": "code",
   "execution_count": 6,
   "id": "858c36b916a17c0c",
   "metadata": {},
   "outputs": [
    {
     "data": {
      "text/plain": [
       "9102"
      ]
     },
     "execution_count": 6,
     "metadata": {},
     "output_type": "execute_result"
    }
   ],
   "source": [
    "len(true_proteins)"
   ]
  },
  {
   "cell_type": "code",
   "execution_count": null,
   "id": "50fcf2fb4510f3bf",
   "metadata": {},
   "outputs": [],
   "source": []
  }
 ],
 "metadata": {
  "kernelspec": {
   "display_name": "pi_env",
   "language": "python",
   "name": "pi_env"
  },
  "language_info": {
   "codemirror_mode": {
    "name": "ipython",
    "version": 3
   },
   "file_extension": ".py",
   "mimetype": "text/x-python",
   "name": "python",
   "nbconvert_exporter": "python",
   "pygments_lexer": "ipython3",
   "version": "3.10.14"
  }
 },
 "nbformat": 4,
 "nbformat_minor": 5
}
