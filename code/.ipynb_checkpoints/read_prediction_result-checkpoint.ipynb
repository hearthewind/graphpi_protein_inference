{
 "cells": [
  {
   "cell_type": "code",
   "execution_count": 10,
   "id": "initial_id",
   "metadata": {
    "jupyter": {
     "is_executing": true
    }
   },
   "outputs": [],
   "source": [
    "import pickle\n",
    "from train.util import get_dataset\n",
    "from datasets.util import get_proteins_by_fdr\n",
    "from train.util import iprg_converter"
   ]
  },
  {
   "cell_type": "code",
   "execution_count": 11,
   "id": "b88f9bfae4ee4527",
   "metadata": {},
   "outputs": [],
   "source": [
    "prediction_file = '/home/m/data/protein_inference/protein_inference_nov3_server/PXD005388/mymodel_result/result.pkl'\n",
    "dataset = \"PXD005388\"\n",
    "test_fdr = 0.05"
   ]
  },
  {
   "cell_type": "code",
   "execution_count": 12,
   "id": "5433f61b12b9b87b",
   "metadata": {},
   "outputs": [],
   "source": [
    "with open(prediction_file, \"rb\") as f:\n",
    "    protein_scores = pickle.load(f)"
   ]
  },
  {
   "cell_type": "code",
   "execution_count": 13,
   "id": "9593a6dc015fc861",
   "metadata": {},
   "outputs": [
    {
     "name": "stdout",
     "output_type": "stream",
     "text": [
      "The degenerate groups for PXD005388 is: 213\n",
      "['IonFrac', 'deltCn', 'deltLCn', 'lnExpect', 'lnNumSP', 'lnRankSP', 'spScores', 'xCorr', 'pep']\n"
     ]
    }
   ],
   "source": [
    "dataset = get_dataset(dataset, train=False)"
   ]
  },
  {
   "cell_type": "code",
   "execution_count": 14,
   "id": "52f1aee56414c2ce",
   "metadata": {},
   "outputs": [],
   "source": [
    "reverse_id_map = {value: key for key, value in dataset.protein_map.items()}\n",
    "\n",
    "result = {iprg_converter(protein, dataset): score for protein, score in protein_scores.items()}\n",
    "contaminate_proteins = [iprg_converter(protein, dataset) for protein in dataset.get_contaminate_proteins()]\n",
    "indishtinguishable_group = {\n",
    "    iprg_converter(reverse_id_map[protein], dataset): [iprg_converter(reverse_id_map[protein_], dataset) \\\n",
    "                                                       for protein_ in protein_pairs] for protein, protein_pairs\n",
    "    in dataset.indistinguishable_groups.items()}\n",
    "\n",
    "true_proteins = get_proteins_by_fdr(result, fdr=test_fdr, contaminate_proteins=contaminate_proteins,\n",
    "                                    indishtinguishable_group=indishtinguishable_group)"
   ]
  },
  {
   "cell_type": "code",
   "execution_count": 15,
   "id": "858c36b916a17c0c",
   "metadata": {},
   "outputs": [
    {
     "data": {
      "text/plain": [
       "554"
      ]
     },
     "execution_count": 15,
     "metadata": {},
     "output_type": "execute_result"
    }
   ],
   "source": [
    "len(true_proteins)"
   ]
  },
  {
   "cell_type": "code",
   "execution_count": null,
   "id": "50fcf2fb4510f3bf",
   "metadata": {},
   "outputs": [],
   "source": []
  }
 ],
 "metadata": {
  "kernelspec": {
   "display_name": "pi_env",
   "language": "python",
   "name": "pi_env"
  },
  "language_info": {
   "codemirror_mode": {
    "name": "ipython",
    "version": 3
   },
   "file_extension": ".py",
   "mimetype": "text/x-python",
   "name": "python",
   "nbconvert_exporter": "python",
   "pygments_lexer": "ipython3",
   "version": "3.10.14"
  }
 },
 "nbformat": 4,
 "nbformat_minor": 5
}
